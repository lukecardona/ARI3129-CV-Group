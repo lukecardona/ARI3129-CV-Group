{
 "cells": [
  {
   "cell_type": "code",
   "execution_count": 7,
   "metadata": {},
   "outputs": [],
   "source": [
    "!pip install roboflow\n",
    "!pip install libjpeg\n",
    "!pip install libpng"
   ]
  },
  {
   "cell_type": "code",
   "execution_count": null,
   "metadata": {},
   "outputs": [
    {
     "name": "stdout",
     "output_type": "stream",
     "text": [
      "c:\\Users\\lukec\\Documents\\ComputerVision\\ARI3129-CV-Group\\Task3\\yolov7\n"
     ]
    },
    {
     "name": "stderr",
     "output_type": "stream",
     "text": [
      "fatal: destination path 'yolov7' already exists and is not an empty directory.\n"
     ]
    },
    {
     "name": "stdout",
     "output_type": "stream",
     "text": [
      "Your branch is up to date with 'origin/fix/problems_associated_with_the_latest_versions_of_pytorch_and_numpy'.\n"
     ]
    },
    {
     "name": "stderr",
     "output_type": "stream",
     "text": [
      "Already on 'fix/problems_associated_with_the_latest_versions_of_pytorch_and_numpy'\n"
     ]
    },
    {
     "name": "stdout",
     "output_type": "stream",
     "text": [
      "Requirement already satisfied: matplotlib>=3.2.2 in c:\\users\\lukec\\anaconda3\\lib\\site-packages (from -r requirements.txt (line 4)) (3.7.0)\n",
      "Requirement already satisfied: numpy>=1.18.5 in c:\\users\\lukec\\anaconda3\\lib\\site-packages (from -r requirements.txt (line 5)) (1.23.5)\n",
      "Requirement already satisfied: opencv-python>=4.1.1 in c:\\users\\lukec\\anaconda3\\lib\\site-packages (from -r requirements.txt (line 6)) (4.7.0.72)\n",
      "Requirement already satisfied: Pillow>=7.1.2 in c:\\users\\lukec\\anaconda3\\lib\\site-packages (from -r requirements.txt (line 7)) (10.0.1)\n",
      "Requirement already satisfied: PyYAML>=5.3.1 in c:\\users\\lukec\\anaconda3\\lib\\site-packages (from -r requirements.txt (line 8)) (6.0)\n",
      "Requirement already satisfied: requests>=2.23.0 in c:\\users\\lukec\\anaconda3\\lib\\site-packages (from -r requirements.txt (line 9)) (2.28.1)\n",
      "Requirement already satisfied: scipy>=1.4.1 in c:\\users\\lukec\\anaconda3\\lib\\site-packages (from -r requirements.txt (line 10)) (1.10.0)\n",
      "Requirement already satisfied: torch!=1.12.0,>=1.7.0 in c:\\users\\lukec\\anaconda3\\lib\\site-packages (from -r requirements.txt (line 11)) (2.0.1)\n",
      "Requirement already satisfied: torchvision!=0.13.0,>=0.8.1 in c:\\users\\lukec\\anaconda3\\lib\\site-packages (from -r requirements.txt (line 12)) (0.15.2)\n",
      "Requirement already satisfied: tqdm>=4.41.0 in c:\\users\\lukec\\anaconda3\\lib\\site-packages (from -r requirements.txt (line 13)) (4.64.1)\n",
      "Requirement already satisfied: protobuf<4.21.3 in c:\\users\\lukec\\anaconda3\\lib\\site-packages (from -r requirements.txt (line 14)) (4.21.2)\n",
      "Requirement already satisfied: tensorboard>=2.4.1 in c:\\users\\lukec\\appdata\\roaming\\python\\python310\\site-packages (from -r requirements.txt (line 17)) (2.12.3)\n",
      "Requirement already satisfied: pandas>=1.1.4 in c:\\users\\lukec\\anaconda3\\lib\\site-packages (from -r requirements.txt (line 21)) (1.5.3)\n",
      "Requirement already satisfied: seaborn>=0.11.0 in c:\\users\\lukec\\anaconda3\\lib\\site-packages (from -r requirements.txt (line 22)) (0.12.2)\n",
      "Requirement already satisfied: ipython in c:\\users\\lukec\\anaconda3\\lib\\site-packages (from -r requirements.txt (line 34)) (8.10.0)\n",
      "Requirement already satisfied: psutil in c:\\users\\lukec\\anaconda3\\lib\\site-packages (from -r requirements.txt (line 35)) (5.9.0)\n",
      "Requirement already satisfied: thop in c:\\users\\lukec\\anaconda3\\lib\\site-packages (from -r requirements.txt (line 36)) (0.1.1.post2209072238)\n",
      "Requirement already satisfied: packaging>=20.0 in c:\\users\\lukec\\anaconda3\\lib\\site-packages (from matplotlib>=3.2.2->-r requirements.txt (line 4)) (22.0)\n",
      "Requirement already satisfied: python-dateutil>=2.7 in c:\\users\\lukec\\anaconda3\\lib\\site-packages (from matplotlib>=3.2.2->-r requirements.txt (line 4)) (2.8.2)\n",
      "Requirement already satisfied: contourpy>=1.0.1 in c:\\users\\lukec\\anaconda3\\lib\\site-packages (from matplotlib>=3.2.2->-r requirements.txt (line 4)) (1.0.5)\n",
      "Requirement already satisfied: pyparsing>=2.3.1 in c:\\users\\lukec\\anaconda3\\lib\\site-packages (from matplotlib>=3.2.2->-r requirements.txt (line 4)) (2.4.7)\n",
      "Requirement already satisfied: cycler>=0.10 in c:\\users\\lukec\\anaconda3\\lib\\site-packages (from matplotlib>=3.2.2->-r requirements.txt (line 4)) (0.10.0)\n",
      "Requirement already satisfied: kiwisolver>=1.0.1 in c:\\users\\lukec\\anaconda3\\lib\\site-packages (from matplotlib>=3.2.2->-r requirements.txt (line 4)) (1.4.4)\n",
      "Requirement already satisfied: fonttools>=4.22.0 in c:\\users\\lukec\\anaconda3\\lib\\site-packages (from matplotlib>=3.2.2->-r requirements.txt (line 4)) (4.25.0)\n",
      "Requirement already satisfied: certifi>=2017.4.17 in c:\\users\\lukec\\anaconda3\\lib\\site-packages (from requests>=2.23.0->-r requirements.txt (line 9)) (2023.7.22)\n",
      "Requirement already satisfied: idna<4,>=2.5 in c:\\users\\lukec\\anaconda3\\lib\\site-packages (from requests>=2.23.0->-r requirements.txt (line 9)) (2.10)\n",
      "Requirement already satisfied: urllib3<1.27,>=1.21.1 in c:\\users\\lukec\\appdata\\roaming\\python\\python310\\site-packages (from requests>=2.23.0->-r requirements.txt (line 9)) (1.26.16)\n",
      "Requirement already satisfied: charset-normalizer<3,>=2 in c:\\users\\lukec\\anaconda3\\lib\\site-packages (from requests>=2.23.0->-r requirements.txt (line 9)) (2.0.4)\n",
      "Requirement already satisfied: typing-extensions in c:\\users\\lukec\\anaconda3\\lib\\site-packages (from torch!=1.12.0,>=1.7.0->-r requirements.txt (line 11)) (4.9.0)\n",
      "Requirement already satisfied: networkx in c:\\users\\lukec\\anaconda3\\lib\\site-packages (from torch!=1.12.0,>=1.7.0->-r requirements.txt (line 11)) (2.8.4)\n",
      "Requirement already satisfied: sympy in c:\\users\\lukec\\anaconda3\\lib\\site-packages (from torch!=1.12.0,>=1.7.0->-r requirements.txt (line 11)) (1.11.1)\n",
      "Requirement already satisfied: filelock in c:\\users\\lukec\\anaconda3\\lib\\site-packages (from torch!=1.12.0,>=1.7.0->-r requirements.txt (line 11)) (3.9.0)\n",
      "Requirement already satisfied: jinja2 in c:\\users\\lukec\\anaconda3\\lib\\site-packages (from torch!=1.12.0,>=1.7.0->-r requirements.txt (line 11)) (3.1.2)\n",
      "Requirement already satisfied: colorama in c:\\users\\lukec\\anaconda3\\lib\\site-packages (from tqdm>=4.41.0->-r requirements.txt (line 13)) (0.4.6)\n",
      "Requirement already satisfied: setuptools>=41.0.0 in c:\\users\\lukec\\anaconda3\\lib\\site-packages (from tensorboard>=2.4.1->-r requirements.txt (line 17)) (65.6.3)\n",
      "Requirement already satisfied: google-auth-oauthlib<1.1,>=0.5 in c:\\users\\lukec\\appdata\\roaming\\python\\python310\\site-packages (from tensorboard>=2.4.1->-r requirements.txt (line 17)) (1.0.0)\n",
      "Requirement already satisfied: werkzeug>=1.0.1 in c:\\users\\lukec\\appdata\\roaming\\python\\python310\\site-packages (from tensorboard>=2.4.1->-r requirements.txt (line 17)) (2.3.4)\n",
      "Requirement already satisfied: grpcio>=1.48.2 in c:\\users\\lukec\\appdata\\roaming\\python\\python310\\site-packages (from tensorboard>=2.4.1->-r requirements.txt (line 17)) (1.54.2)\n",
      "Requirement already satisfied: google-auth<3,>=1.6.3 in c:\\users\\lukec\\appdata\\roaming\\python\\python310\\site-packages (from tensorboard>=2.4.1->-r requirements.txt (line 17)) (2.19.1)\n",
      "Requirement already satisfied: wheel>=0.26 in c:\\users\\lukec\\anaconda3\\lib\\site-packages (from tensorboard>=2.4.1->-r requirements.txt (line 17)) (0.38.4)\n",
      "Requirement already satisfied: markdown>=2.6.8 in c:\\users\\lukec\\appdata\\roaming\\python\\python310\\site-packages (from tensorboard>=2.4.1->-r requirements.txt (line 17)) (3.4.3)\n",
      "Requirement already satisfied: tensorboard-data-server<0.8.0,>=0.7.0 in c:\\users\\lukec\\appdata\\roaming\\python\\python310\\site-packages (from tensorboard>=2.4.1->-r requirements.txt (line 17)) (0.7.0)\n",
      "Requirement already satisfied: absl-py>=0.4 in c:\\users\\lukec\\appdata\\roaming\\python\\python310\\site-packages (from tensorboard>=2.4.1->-r requirements.txt (line 17)) (1.4.0)\n",
      "Requirement already satisfied: pytz>=2020.1 in c:\\users\\lukec\\anaconda3\\lib\\site-packages (from pandas>=1.1.4->-r requirements.txt (line 21)) (2022.7)\n",
      "Requirement already satisfied: matplotlib-inline in c:\\users\\lukec\\anaconda3\\lib\\site-packages (from ipython->-r requirements.txt (line 34)) (0.1.6)\n",
      "Requirement already satisfied: pickleshare in c:\\users\\lukec\\anaconda3\\lib\\site-packages (from ipython->-r requirements.txt (line 34)) (0.7.5)\n",
      "Requirement already satisfied: jedi>=0.16 in c:\\users\\lukec\\anaconda3\\lib\\site-packages (from ipython->-r requirements.txt (line 34)) (0.18.1)\n",
      "Requirement already satisfied: prompt-toolkit<3.1.0,>=3.0.30 in c:\\users\\lukec\\anaconda3\\lib\\site-packages (from ipython->-r requirements.txt (line 34)) (3.0.36)\n",
      "Requirement already satisfied: decorator in c:\\users\\lukec\\anaconda3\\lib\\site-packages (from ipython->-r requirements.txt (line 34)) (5.1.1)\n",
      "Requirement already satisfied: backcall in c:\\users\\lukec\\anaconda3\\lib\\site-packages (from ipython->-r requirements.txt (line 34)) (0.2.0)\n",
      "Requirement already satisfied: traitlets>=5 in c:\\users\\lukec\\anaconda3\\lib\\site-packages (from ipython->-r requirements.txt (line 34)) (5.7.1)\n",
      "Requirement already satisfied: pygments>=2.4.0 in c:\\users\\lukec\\anaconda3\\lib\\site-packages (from ipython->-r requirements.txt (line 34)) (2.11.2)\n",
      "Requirement already satisfied: stack-data in c:\\users\\lukec\\anaconda3\\lib\\site-packages (from ipython->-r requirements.txt (line 34)) (0.2.0)\n",
      "Requirement already satisfied: six in c:\\users\\lukec\\anaconda3\\lib\\site-packages (from cycler>=0.10->matplotlib>=3.2.2->-r requirements.txt (line 4)) (1.16.0)\n",
      "Requirement already satisfied: rsa<5,>=3.1.4 in c:\\users\\lukec\\appdata\\roaming\\python\\python310\\site-packages (from google-auth<3,>=1.6.3->tensorboard>=2.4.1->-r requirements.txt (line 17)) (4.9)\n",
      "Requirement already satisfied: pyasn1-modules>=0.2.1 in c:\\users\\lukec\\appdata\\roaming\\python\\python310\\site-packages (from google-auth<3,>=1.6.3->tensorboard>=2.4.1->-r requirements.txt (line 17)) (0.3.0)\n",
      "Requirement already satisfied: cachetools<6.0,>=2.0.0 in c:\\users\\lukec\\appdata\\roaming\\python\\python310\\site-packages (from google-auth<3,>=1.6.3->tensorboard>=2.4.1->-r requirements.txt (line 17)) (5.3.1)\n",
      "Requirement already satisfied: requests-oauthlib>=0.7.0 in c:\\users\\lukec\\appdata\\roaming\\python\\python310\\site-packages (from google-auth-oauthlib<1.1,>=0.5->tensorboard>=2.4.1->-r requirements.txt (line 17)) (1.3.1)\n",
      "Requirement already satisfied: parso<0.9.0,>=0.8.0 in c:\\users\\lukec\\anaconda3\\lib\\site-packages (from jedi>=0.16->ipython->-r requirements.txt (line 34)) (0.8.3)\n",
      "Requirement already satisfied: wcwidth in c:\\users\\lukec\\anaconda3\\lib\\site-packages (from prompt-toolkit<3.1.0,>=3.0.30->ipython->-r requirements.txt (line 34)) (0.2.5)\n",
      "Requirement already satisfied: MarkupSafe>=2.1.1 in c:\\users\\lukec\\anaconda3\\lib\\site-packages (from werkzeug>=1.0.1->tensorboard>=2.4.1->-r requirements.txt (line 17)) (2.1.1)\n",
      "Requirement already satisfied: asttokens in c:\\users\\lukec\\anaconda3\\lib\\site-packages (from stack-data->ipython->-r requirements.txt (line 34)) (2.0.5)\n",
      "Requirement already satisfied: executing in c:\\users\\lukec\\anaconda3\\lib\\site-packages (from stack-data->ipython->-r requirements.txt (line 34)) (0.8.3)\n",
      "Requirement already satisfied: pure-eval in c:\\users\\lukec\\anaconda3\\lib\\site-packages (from stack-data->ipython->-r requirements.txt (line 34)) (0.2.2)\n",
      "Requirement already satisfied: mpmath>=0.19 in c:\\users\\lukec\\anaconda3\\lib\\site-packages (from sympy->torch!=1.12.0,>=1.7.0->-r requirements.txt (line 11)) (1.2.1)\n",
      "Requirement already satisfied: pyasn1<0.6.0,>=0.4.6 in c:\\users\\lukec\\appdata\\roaming\\python\\python310\\site-packages (from pyasn1-modules>=0.2.1->google-auth<3,>=1.6.3->tensorboard>=2.4.1->-r requirements.txt (line 17)) (0.5.0)\n",
      "Requirement already satisfied: oauthlib>=3.0.0 in c:\\users\\lukec\\appdata\\roaming\\python\\python310\\site-packages (from requests-oauthlib>=0.7.0->google-auth-oauthlib<1.1,>=0.5->tensorboard>=2.4.1->-r requirements.txt (line 17)) (3.2.2)\n"
     ]
    }
   ],
   "source": [
    "!git clone https://github.com/SkalskiP/yolov7.git\n",
    "%cd yolov7\n",
    "!git checkout fix/problems_associated_with_the_latest_versions_of_pytorch_and_numpy\n",
    "!pip install -r requirements.txt"
   ]
  },
  {
   "cell_type": "code",
   "execution_count": null,
   "metadata": {},
   "outputs": [],
   "source": [
    "from roboflow import Roboflow\n",
    "rf = Roboflow(api_key=\"jVPjtUnD761VlYmrA6tz\")\n",
    "project = rf.workspace(\"pizzaassignment\").project(\"pizza-detector-and-toppings\")\n",
    "dataset = project.version(2).download(\"yolov7\")\n"
   ]
  },
  {
   "cell_type": "code",
   "execution_count": null,
   "metadata": {},
   "outputs": [
    {
     "name": "stderr",
     "output_type": "stream",
     "text": [
      "c:\\Users\\lukec\\anaconda3\\lib\\site-packages\\torchvision\\io\\image.py:13: UserWarning: Failed to load image Python extension: '[WinError 127] The specified procedure could not be found'If you don't plan on using image functionality from `torchvision.io`, you can ignore this warning. Otherwise, there might be something wrong with your environment. Did you have `libjpeg` or `libpng` installed before building `torchvision` from source?\n",
      "  warn(\n",
      "Traceback (most recent call last):\n",
      "  File \"c:\\Users\\lukec\\Documents\\ComputerVision\\ARI3129-CV-Group\\Task3\\yolov7\\yolov7\\train.py\", line 587, in <module>\n",
      "    opt.data, opt.cfg, opt.hyp = check_file(opt.data), check_file(opt.cfg), check_file(opt.hyp)  # check files\n",
      "  File \"c:\\Users\\lukec\\Documents\\ComputerVision\\ARI3129-CV-Group\\Task3\\yolov7\\yolov7\\utils\\general.py\", line 151, in check_file\n",
      "    assert len(files), f'File Not Found: {file}'  # assert file was found\n",
      "AssertionError: File Not Found: {dataset.location}/data.yaml\n"
     ]
    }
   ],
   "source": [
    "!python train.py --batch 16 --epochs 55 --data {dataset.location}/data.yaml --weights 'yolov7_training.pt' --device 0 "
   ]
  },
  {
   "cell_type": "code",
   "execution_count": null,
   "metadata": {},
   "outputs": [
    {
     "name": "stdout",
     "output_type": "stream",
     "text": [
      "Namespace(weights=['runs/train/exp/weights/best.pt'], source='{dataset.location}/test/images', img_size=640, conf_thres=0.1, iou_thres=0.45, device='', view_img=False, save_txt=False, save_conf=False, nosave=False, classes=None, agnostic_nms=False, augment=False, update=False, project='runs/detect', name='exp', exist_ok=False, no_trace=False)\n"
     ]
    },
    {
     "name": "stderr",
     "output_type": "stream",
     "text": [
      "c:\\Users\\lukec\\anaconda3\\lib\\site-packages\\torchvision\\io\\image.py:13: UserWarning: Failed to load image Python extension: '[WinError 127] The specified procedure could not be found'If you don't plan on using image functionality from `torchvision.io`, you can ignore this warning. Otherwise, there might be something wrong with your environment. Did you have `libjpeg` or `libpng` installed before building `torchvision` from source?\n",
      "  warn(\n",
      "YOLOR  b2a7de9 torch 1.12.1 CPU\n",
      "\n",
      "Traceback (most recent call last):\n",
      "  File \"c:\\Users\\lukec\\Documents\\ComputerVision\\ARI3129-CV-Group\\Task3\\yolov7\\yolov7\\utils\\google_utils.py\", line 26, in attempt_download\n",
      "    assets = [x['name'] for x in response['assets']]  # release assets\n",
      "KeyError: 'assets'\n",
      "\n",
      "During handling of the above exception, another exception occurred:\n",
      "\n",
      "Traceback (most recent call last):\n",
      "  File \"c:\\Users\\lukec\\Documents\\ComputerVision\\ARI3129-CV-Group\\Task3\\yolov7\\yolov7\\detect.py\", line 196, in <module>\n",
      "    detect()\n",
      "  File \"c:\\Users\\lukec\\Documents\\ComputerVision\\ARI3129-CV-Group\\Task3\\yolov7\\yolov7\\detect.py\", line 34, in detect\n",
      "    model = attempt_load(weights, map_location=device)  # load FP32 model\n",
      "  File \"c:\\Users\\lukec\\Documents\\ComputerVision\\ARI3129-CV-Group\\Task3\\yolov7\\yolov7\\models\\experimental.py\", line 251, in attempt_load\n",
      "    attempt_download(w)\n",
      "  File \"c:\\Users\\lukec\\Documents\\ComputerVision\\ARI3129-CV-Group\\Task3\\yolov7\\yolov7\\utils\\google_utils.py\", line 31, in attempt_download\n",
      "    tag = subprocess.check_output('git tag', shell=True).decode().split()[-1]\n",
      "IndexError: list index out of range\n"
     ]
    }
   ],
   "source": [
    "# Run evaluation\n",
    "!python detect.py --weights runs/train/exp/weights/best.pt --conf 0.1 --source {dataset.location}/test/images"
   ]
  },
  {
   "cell_type": "code",
   "execution_count": null,
   "metadata": {},
   "outputs": [],
   "source": [
    "#display inference on ALL test images\n",
    "\n",
    "import glob\n",
    "from IPython.display import Image, display\n",
    "\n",
    "i = 0\n",
    "limit = 10000 # max images to print\n",
    "for imageName in glob.glob('/content/yolov7/runs/detect/exp/*.jpg'): #assuming JPG\n",
    "    if i < limit:\n",
    "      display(Image(filename=imageName))\n",
    "      print(\"\\n\")\n",
    "    i = i + 1"
   ]
  }
 ],
 "metadata": {
  "kernelspec": {
   "display_name": "base",
   "language": "python",
   "name": "python3"
  },
  "language_info": {
   "codemirror_mode": {
    "name": "ipython",
    "version": 3
   },
   "file_extension": ".py",
   "mimetype": "text/x-python",
   "name": "python",
   "nbconvert_exporter": "python",
   "pygments_lexer": "ipython3",
   "version": "3.10.9"
  }
 },
 "nbformat": 4,
 "nbformat_minor": 2
}
