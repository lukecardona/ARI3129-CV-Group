{
 "cells": [
  {
   "cell_type": "code",
   "execution_count": 23,
   "metadata": {},
   "outputs": [],
   "source": [
    "#!pip install Keras"
   ]
  },
  {
   "cell_type": "code",
   "execution_count": 24,
   "metadata": {},
   "outputs": [],
   "source": [
    "from keras.applications import VGG16, ResNet50, InceptionV3\n",
    "from tensorflow.keras.preprocessing import image\n",
    "from keras.applications.vgg16 import preprocess_input as preprocess_input_vgg\n",
    "from tensorflow.keras.applications.resnet50 import preprocess_input as preprocess_input_resnet\n",
    "from keras.applications.inception_v3 import preprocess_input as preprocess_input_inception\n",
    "from keras.applications.imagenet_utils import decode_predictions\n",
    "import numpy as np\n",
    "import os\n",
    "import json\n",
    "\n",
    "# Load VGG16 MODEL - Model 1\n",
    "modelvgg = VGG16(weights='imagenet')\n",
    "\n",
    "# Load ResNet50 MODEL - Model 2\n",
    "modelresnet = ResNet50(weights='imagenet')\n",
    "\n",
    "# Load InceptionV3 MODEL - Model 3\n",
    "modelinception = InceptionV3(weights='imagenet')"
   ]
  },
  {
   "cell_type": "code",
   "execution_count": 25,
   "metadata": {},
   "outputs": [],
   "source": [
    "def classifyImage(model, imgPath, preprocessInputFunction, top_n=5, targetSize=(224, 224)):\n",
    "    img = image.load_img(imgPath, target_size=targetSize)  #Resizes the image to the model specifications\n",
    "    tempImg = image.img_to_array(img) \n",
    "    tempImg = np.expand_dims(tempImg, axis=0)\n",
    "    tempImg = preprocessInputFunction(tempImg)\n",
    "    predictionsRaw = model.predict(tempImg)  #Gets the top 5 predictions\n",
    "    predictions = decode_predictions(predictionsRaw, top=top_n)[0]  #Decodes the predictions\n",
    "    return predictions"
   ]
  },
  {
   "cell_type": "code",
   "execution_count": 26,
   "metadata": {},
   "outputs": [
    {
     "name": "stdout",
     "output_type": "stream",
     "text": [
      "1/1 [==============================] - 0s 166ms/step\n",
      "1/1 [==============================] - 0s 462ms/step\n",
      "1/1 [==============================] - 1s 598ms/step\n",
      "1/1 [==============================] - 0s 95ms/step\n",
      "1/1 [==============================] - 0s 71ms/step\n",
      "1/1 [==============================] - 0s 71ms/step\n",
      "1/1 [==============================] - 0s 99ms/step\n",
      "1/1 [==============================] - 0s 70ms/step\n",
      "1/1 [==============================] - 0s 72ms/step\n",
      "1/1 [==============================] - 0s 91ms/step\n",
      "1/1 [==============================] - 0s 70ms/step\n",
      "1/1 [==============================] - 0s 71ms/step\n",
      "1/1 [==============================] - 0s 91ms/step\n",
      "1/1 [==============================] - 0s 70ms/step\n",
      "1/1 [==============================] - 0s 73ms/step\n",
      "1/1 [==============================] - 0s 108ms/step\n",
      "1/1 [==============================] - 0s 70ms/step\n",
      "1/1 [==============================] - 0s 71ms/step\n",
      "1/1 [==============================] - 0s 92ms/step\n",
      "1/1 [==============================] - 0s 69ms/step\n",
      "1/1 [==============================] - 0s 71ms/step\n",
      "1/1 [==============================] - 0s 91ms/step\n",
      "1/1 [==============================] - 0s 71ms/step\n",
      "1/1 [==============================] - 0s 69ms/step\n",
      "1/1 [==============================] - 0s 108ms/step\n",
      "1/1 [==============================] - 0s 76ms/step\n",
      "1/1 [==============================] - 0s 68ms/step\n",
      "1/1 [==============================] - 0s 90ms/step\n",
      "1/1 [==============================] - 0s 69ms/step\n",
      "1/1 [==============================] - 0s 72ms/step\n"
     ]
    }
   ],
   "source": [
    "folder_path = 'Task1Images' #Task 1 Pizzas Images path\n",
    "files = os.listdir(folder_path)\n",
    "\n",
    "resultsDictionary = {}\n",
    "\n",
    "for fileName in files:\n",
    "    resultsDictionary[fileName] = {}\n",
    "    filePath = os.path.join(folder_path, fileName)\n",
    "    vggPredictions = classifyImage(modelvgg, filePath, preprocess_input_vgg)\n",
    "    resnetPredictions = classifyImage(modelresnet, filePath, preprocess_input_resnet)\n",
    "    inceptionPredictions = classifyImage(modelinception, filePath, preprocess_input_inception, targetSize=(299, 299))\n",
    "    resultsDictionary[fileName]['vgg'] = {}\n",
    "    resultsDictionary[fileName]['resnet'] = {}\n",
    "    resultsDictionary[fileName]['inception'] = {}\n",
    "\n",
    "    for _, label, score in vggPredictions:\n",
    "        resultsDictionary[fileName]['vgg'][label] = float(round(score,2))\n",
    "    for _, label, score in resnetPredictions:\n",
    "        resultsDictionary[fileName]['resnet'][label] = float(round(score,2))\n",
    "    for _, label, score in inceptionPredictions:\n",
    "        resultsDictionary[fileName]['inception'][label] = float(round(score,2))"
   ]
  },
  {
   "cell_type": "code",
   "execution_count": 27,
   "metadata": {},
   "outputs": [
    {
     "name": "stdout",
     "output_type": "stream",
     "text": [
      "\n",
      "Results Dictionary:\n",
      "{'AbnormalPizza.jpg': {'vgg': {'pizza': 0.5400000214576721, 'soup_bowl': 0.3100000023841858, 'consomme': 0.10999999940395355, 'potpie': 0.009999999776482582, 'plate': 0.0}, 'resnet': {'pizza': 0.8999999761581421, 'soup_bowl': 0.03999999910593033, 'plate': 0.029999999329447746, 'zucchini': 0.009999999776482582, 'consomme': 0.0}, 'inception': {'pizza': 0.7900000214576721, 'broccoli': 0.05999999865889549, 'bagel': 0.009999999776482582, 'plate': 0.0, 'mashed_potato': 0.0}}, 'FrenchBreadPizza.jpg': {'vgg': {'pizza': 0.5600000023841858, 'pomegranate': 0.07000000029802322, 'binder': 0.07000000029802322, 'strawberry': 0.05000000074505806, 'cleaver': 0.019999999552965164}, 'resnet': {'pizza': 0.8600000143051147, 'meat_loaf': 0.10999999940395355, 'pomegranate': 0.0, 'toaster': 0.0, 'refrigerator': 0.0}, 'inception': {'pizza': 0.8100000023841858, 'pomegranate': 0.019999999552965164, 'French_loaf': 0.0, 'bow_tie': 0.0, 'spatula': 0.0}}, 'FullPizzaHalfImg.jpg': {'vgg': {'bottlecap': 0.4300000071525574, 'bolo_tie': 0.18000000715255737, 'toilet_seat': 0.05999999865889549, 'pizza': 0.05000000074505806, 'pomegranate': 0.05000000074505806}, 'resnet': {'pizza': 0.8399999737739563, 'bottlecap': 0.10000000149011612, 'barrel': 0.019999999552965164, 'toilet_seat': 0.009999999776482582, 'wall_clock': 0.009999999776482582}, 'inception': {'pizza': 0.6299999952316284, 'pomegranate': 0.03999999910593033, 'bottlecap': 0.009999999776482582, 'spindle': 0.009999999776482582, 'potpie': 0.009999999776482582}}, 'ItalianPizza.jpg': {'vgg': {'Dutch_oven': 0.3400000035762787, 'pizza': 0.3100000023841858, 'frying_pan': 0.23000000417232513, 'puck': 0.09000000357627869, 'acorn_squash': 0.009999999776482582}, 'resnet': {'frying_pan': 0.3700000047683716, 'pizza': 0.3499999940395355, 'Dutch_oven': 0.12999999523162842, 'wok': 0.09000000357627869, 'zucchini': 0.019999999552965164}, 'inception': {'pizza': 0.8999999761581421, 'zucchini': 0.029999999329447746, 'frying_pan': 0.009999999776482582, 'Dutch_oven': 0.0, 'wok': 0.0}}, 'MushroomPizza.jpg': {'vgg': {'pizza': 0.800000011920929, 'hot_pot': 0.10000000149011612, 'Dutch_oven': 0.029999999329447746, 'soup_bowl': 0.019999999552965164, 'frying_pan': 0.019999999552965164}, 'resnet': {'pizza': 1.0, 'frying_pan': 0.0, 'potpie': 0.0, 'chocolate_sauce': 0.0, 'corn': 0.0}, 'inception': {'pizza': 0.9900000095367432, 'broccoli': 0.0, 'zucchini': 0.0, 'mushroom': 0.0, 'waffle_iron': 0.0}}, 'NormalPizzaMargeritha.jpg': {'vgg': {'pizza': 0.9700000286102295, 'acorn_squash': 0.009999999776482582, 'potpie': 0.0, 'French_loaf': 0.0, 'guacamole': 0.0}, 'resnet': {'pizza': 0.9700000286102295, 'potpie': 0.009999999776482582, 'waffle_iron': 0.0, 'plate': 0.0, 'pretzel': 0.0}, 'inception': {'pizza': 0.8799999952316284, 'potpie': 0.07999999821186066, 'French_loaf': 0.0, 'frying_pan': 0.0, 'Dutch_oven': 0.0}}, 'PepporoniPizza.jpg': {'vgg': {'pomegranate': 0.6100000143051147, 'pizza': 0.38999998569488525, 'trifle': 0.0, 'fig': 0.0, 'strawberry': 0.0}, 'resnet': {'pizza': 0.949999988079071, 'pomegranate': 0.05000000074505806, 'fig': 0.0, 'trifle': 0.0, 'wooden_spoon': 0.0}, 'inception': {'pizza': 0.5099999904632568, 'pomegranate': 0.4000000059604645, 'bow_tie': 0.0, 'organ': 0.0, 'hognose_snake': 0.0}}, 'PepporoniPizza2.jpg': {'vgg': {'pizza': 1.0, 'bakery': 0.0, 'spatula': 0.0, 'French_loaf': 0.0, 'rotisserie': 0.0}, 'resnet': {'pizza': 1.0, 'frying_pan': 0.0, 'trifle': 0.0, 'spatula': 0.0, 'sea_urchin': 0.0}, 'inception': {'pizza': 0.949999988079071, 'hognose_snake': 0.0, 'umbrella': 0.0, 'sleeping_bag': 0.0, 'pomegranate': 0.0}}, 'PizzaWithHands.jpg': {'vgg': {'tick': 0.5400000214576721, 'buckeye': 0.09000000357627869, 'frilled_lizard': 0.05000000074505806, 'leafhopper': 0.019999999552965164, 'weevil': 0.019999999552965164}, 'resnet': {'nail': 0.25, 'French_loaf': 0.07999999821186066, 'buckeye': 0.03999999910593033, 'tick': 0.03999999910593033, 'frilled_lizard': 0.029999999329447746}, 'inception': {'frilled_lizard': 0.10999999940395355, 'potpie': 0.029999999329447746, 'chambered_nautilus': 0.019999999552965164, 'earthstar': 0.019999999552965164, 'sundial': 0.019999999552965164}}, 'PizzaWithWatermark.jpg': {'vgg': {'pizza': 1.0, 'pomegranate': 0.0, 'tray': 0.0, 'bagel': 0.0, 'toilet_seat': 0.0}, 'resnet': {'pizza': 1.0, 'toilet_seat': 0.0, 'strawberry': 0.0, 'bagel': 0.0, 'trifle': 0.0}, 'inception': {'pizza': 0.8899999856948853, 'toilet_seat': 0.0, 'frying_pan': 0.0, 'spotlight': 0.0, 'soup_bowl': 0.0}}}\n"
     ]
    }
   ],
   "source": [
    "print(\"\\nResults Dictionary:\")\n",
    "print(resultsDictionary)\n",
    "\n",
    "#Save dictionary to a JSON File\n",
    "with open('Task1Results.json', 'w') as fp:\n",
    "    json.dump(resultsDictionary, fp)"
   ]
  }
 ],
 "metadata": {
  "kernelspec": {
   "display_name": "Python 3",
   "language": "python",
   "name": "python3"
  },
  "language_info": {
   "codemirror_mode": {
    "name": "ipython",
    "version": 3
   },
   "file_extension": ".py",
   "mimetype": "text/x-python",
   "name": "python",
   "nbconvert_exporter": "python",
   "pygments_lexer": "ipython3",
   "version": "3.10.9"
  }
 },
 "nbformat": 4,
 "nbformat_minor": 2
}
